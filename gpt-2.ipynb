{
 "cells": [
  {
   "cell_type": "code",
   "execution_count": 1,
   "metadata": {},
   "outputs": [],
   "source": [
    "import torch\n",
    "import torch.nn as nn\n",
    "import torch.nn.functional as F\n",
    "import matplotlib.pyplot as plt\n",
    "from transformers import GPT2LMHeadModel, GPT2Tokenizer\n",
    "\n",
    "%matplotlib inline\n",
    "%reload_ext autoreload\n",
    "%autoreload 2\n",
    "\n",
    "from src import *"
   ]
  },
  {
   "cell_type": "code",
   "execution_count": 2,
   "metadata": {},
   "outputs": [],
   "source": [
    "# Load resources from HF\n",
    "hf_model = GPT2LMHeadModel.from_pretrained(\"gpt2\")\n",
    "tokenizer = GPT2Tokenizer.from_pretrained(\n",
    "    \"openai-community/gpt2\", clean_up_tokenization_spaces=False\n",
    ")"
   ]
  },
  {
   "cell_type": "code",
   "execution_count": 3,
   "metadata": {},
   "outputs": [
    {
     "data": {
      "text/plain": [
       "<All keys matched successfully>"
      ]
     },
     "execution_count": 3,
     "metadata": {},
     "output_type": "execute_result"
    }
   ],
   "source": [
    "# Load weights in model\n",
    "num_heads = 12\n",
    "embed_dim = 768\n",
    "context_len = 1024\n",
    "\n",
    "model = modules.GPT2(tokenizer.vocab_size, embed_dim, context_len, num_heads)\n",
    "model.load_state_dict(hf_model.state_dict())"
   ]
  },
  {
   "cell_type": "code",
   "execution_count": 4,
   "metadata": {},
   "outputs": [
    {
     "name": "stderr",
     "output_type": "stream",
     "text": [
      "HF Completions: 100%|██████████| 40/40 [00:06<00:00,  5.91it/s]\n",
      "Our Completions: 100%|██████████| 40/40 [00:04<00:00,  8.43it/s]"
     ]
    },
    {
     "name": "stdout",
     "output_type": "stream",
     "text": [
      "\n",
      "Completion 0:\n",
      "============\n",
      "Got      : Emergency Broadcast! At 1200, the Earth's 912 hour-2900/2000 It's Salisbury! A car his shaken hands. No clue who or what he was, but this Cab mess! * LANGUAGE: Wis\n",
      "           ---------------------------------------------\n",
      "Expected : Emergency Broadcast! At 1200, the Earth's 912 hour-2900/2000 It's Salisbury! A car his shaken hands. No clue who or what he was, but this Cab mess! * LANGUAGE: Wis\n",
      "\n",
      "Completion 1:\n",
      "============\n",
      "Got      : Emergency Broadcast! At 1200, the Earth's furnace has failed! In my Yamato Colonies and several other states of smelting were toppled under the swayy clouds. But I was saved by the best minds within Seventh Saturdays at 1000.\n",
      "           ---------------------------------------------\n",
      "Expected : Emergency Broadcast! At 1200, the Earth's furnace has failed! In my Yamato Colonies and several other states of smelting were toppled under the swayy clouds. But I was saved by the best minds within Seventh Saturdays at 1000.\n",
      "\n",
      "Completion 2:\n",
      "============\n",
      "Got      : Emergency Broadcast! At 1200, the Earth was at the mercy of the Tau'ri – what better time ceded itself to the Ingersoll Wiaz fight. TABLET NEWS :: 46408 : Webmasters keep hijacking Board Bye Level\n",
      "           ---------------------------------------------\n",
      "Expected : Emergency Broadcast! At 1200, the Earth was at the mercy of the Tau'ri – what better time ceded itself to the Ingersoll Wiaz fight. TABLET NEWS :: 46408 : Webmasters keep hijacking Board Bye Level\n"
     ]
    },
    {
     "name": "stderr",
     "output_type": "stream",
     "text": [
      "\n"
     ]
    }
   ],
   "source": [
    "prompt = \"Emergency Broadcast! At 1200, the Earth\"\n",
    "\n",
    "g = torch.Generator().manual_seed(42)\n",
    "hf_completions = pipeline.generate_completion(\n",
    "    prompt, tokenizer, hf_model, generator=g, loading_bar_prefix=\"HF Completions\"\n",
    ")\n",
    "g = torch.Generator().manual_seed(42)\n",
    "completions = pipeline.generate_completion(\n",
    "    prompt, tokenizer, model, generator=g, loading_bar_prefix=\"Our Completions\"\n",
    ")\n",
    "\n",
    "completion_padding = \" \" * 11\n",
    "for i, (hf_completion, completion) in enumerate(zip(hf_completions, completions)):\n",
    "    print(f\"\\nCompletion {i}:\\n============\")\n",
    "    print(f\"Got      : {completion.replace('\\n\\n', '\\n' + completion_padding)}\")\n",
    "    print(completion_padding + \"---------------------------------------------\")\n",
    "    print(f\"Expected : {hf_completion.replace('\\n\\n', '\\n' + completion_padding)}\")"
   ]
  }
 ],
 "metadata": {
  "kernelspec": {
   "display_name": "zero-to-hero",
   "language": "python",
   "name": "python3"
  },
  "language_info": {
   "codemirror_mode": {
    "name": "ipython",
    "version": 3
   },
   "file_extension": ".py",
   "mimetype": "text/x-python",
   "name": "python",
   "nbconvert_exporter": "python",
   "pygments_lexer": "ipython3",
   "version": "3.12.6"
  }
 },
 "nbformat": 4,
 "nbformat_minor": 2
}
