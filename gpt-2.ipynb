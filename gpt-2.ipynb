{
 "cells": [
  {
   "cell_type": "code",
   "execution_count": 1,
   "metadata": {},
   "outputs": [],
   "source": [
    "import torch\n",
    "import torch.nn as nn\n",
    "import torch.nn.functional as F\n",
    "import matplotlib.pyplot as plt\n",
    "from transformers import GPT2LMHeadModel, GPT2Tokenizer\n",
    "\n",
    "%matplotlib inline\n",
    "%reload_ext autoreload\n",
    "%autoreload 2\n",
    "\n",
    "from src import *"
   ]
  },
  {
   "cell_type": "code",
   "execution_count": 2,
   "metadata": {},
   "outputs": [],
   "source": [
    "# Load resources from HF\n",
    "hf_model = GPT2LMHeadModel.from_pretrained(\"gpt2\")\n",
    "tokenizer = GPT2Tokenizer.from_pretrained(\n",
    "    \"openai-community/gpt2\", clean_up_tokenization_spaces=False\n",
    ")"
   ]
  },
  {
   "cell_type": "code",
   "execution_count": 3,
   "metadata": {},
   "outputs": [],
   "source": [
    "# Load weights in model\n",
    "num_heads = 12\n",
    "embed_dim = 768\n",
    "context_len = 1024\n",
    "device = 'mps'\n",
    "\n",
    "model = modules.GPT2(tokenizer.vocab_size, embed_dim, context_len, num_heads)\n",
    "model.load_state_dict(hf_model.state_dict())\n",
    "\n",
    "# Assign to variable to silence output\n",
    "_ = hf_model.to('mps')\n",
    "_ = model.to('mps')"
   ]
  },
  {
   "cell_type": "code",
   "execution_count": 4,
   "metadata": {},
   "outputs": [
    {
     "name": "stderr",
     "output_type": "stream",
     "text": [
      "Our Completions (mps): 100%|██████████| 40/40 [00:04<00:00,  8.91it/s]\n",
      " HF Completions (mps): 100%|██████████| 40/40 [00:05<00:00,  7.59it/s]"
     ]
    },
    {
     "name": "stdout",
     "output_type": "stream",
     "text": [
      "\n",
      "Completion 0:\n",
      "============\n",
      "Ours  : Captain's Note (8/9/74, 13980 leagues under sea level): Today the crew is ashore in Volk Flora. The crew has sufficient equipment and is encountering a Pokémon that can help them overcome its 'Smith I'. This mysteriously happens to the Pokémon, too. A message of\n",
      "       ---------------------------------------------\n",
      "HF    : Captain's Note (8/9/74, 13980 leagues under sea level): Today the crew is ashore in Volk Flora. The crew has sufficient equipment and is encountering a Pokémon that can help them overcome its 'Smith I'. This mysteriously happens to the Pokémon, too. A message of\n",
      "\n",
      "Completion 1:\n",
      "============\n",
      "Ours  : Captain's Note (8/9/74, 13980 leagues under sea level): Today the crew is learning about the current situation of the Black Sea fleet and birth of the new captain. Sword flipper David Crocker arrives at Marengo Engineering and joins the other leaders of the critical fleet to\n",
      "       ---------------------------------------------\n",
      "HF    : Captain's Note (8/9/74, 13980 leagues under sea level): Today the crew is learning about the current situation of the Black Sea fleet and birth of the new captain. Sword flipper David Crocker arrives at Marengo Engineering and joins the other leaders of the critical fleet to\n",
      "\n",
      "Completion 2:\n",
      "============\n",
      "Ours  : Captain's Note (8/9/74, 13980 leagues under sea level): Today the crew of experienced MLB\") also recommend travel and free meals for people in the United States armed to the teeth (such as veterans from WWI and WWII). Discharge rates vary based on income from of $\n",
      "       ---------------------------------------------\n",
      "HF    : Captain's Note (8/9/74, 13980 leagues under sea level): Today the crew of experienced MLB\") also recommend travel and free meals for people in the United States armed to the teeth (such as veterans from WWI and WWII). Discharge rates vary based on income from of $\n"
     ]
    },
    {
     "name": "stderr",
     "output_type": "stream",
     "text": [
      "\n"
     ]
    }
   ],
   "source": [
    "prompt = \"Captain's Note (8/9/74, 13980 leagues under sea level): Today the crew\"\n",
    "\n",
    "g = torch.Generator(device=device).manual_seed(42)\n",
    "completions = pipeline.generate_completion(\n",
    "    prompt,\n",
    "    tokenizer,\n",
    "    model,\n",
    "    generator=g,\n",
    "    loading_bar_prefix=\"Our Completions\",\n",
    "    device=device,\n",
    ")\n",
    "g = torch.Generator(device=device).manual_seed(42)\n",
    "hf_completions = pipeline.generate_completion(\n",
    "    prompt,\n",
    "    tokenizer,\n",
    "    hf_model,\n",
    "    generator=g,\n",
    "    loading_bar_prefix=\" HF Completions\",\n",
    "    device=device,\n",
    ")\n",
    "\n",
    "completion_padding = \" \" * 7\n",
    "for i, (hf_completion, completion) in enumerate(zip(hf_completions, completions)):\n",
    "    print(f\"\\nCompletion {i}:\\n============\")\n",
    "    print(f\"Ours  : {completion.replace('\\n\\n', '\\n' + completion_padding)}\")\n",
    "    print(completion_padding + \"---------------------------------------------\")\n",
    "    print(f\"HF    : {hf_completion.replace('\\n\\n', '\\n' + completion_padding)}\")"
   ]
  },
  {
   "cell_type": "code",
   "execution_count": null,
   "metadata": {},
   "outputs": [],
   "source": []
  }
 ],
 "metadata": {
  "kernelspec": {
   "display_name": "zero-to-hero",
   "language": "python",
   "name": "python3"
  },
  "language_info": {
   "codemirror_mode": {
    "name": "ipython",
    "version": 3
   },
   "file_extension": ".py",
   "mimetype": "text/x-python",
   "name": "python",
   "nbconvert_exporter": "python",
   "pygments_lexer": "ipython3",
   "version": "3.12.6"
  }
 },
 "nbformat": 4,
 "nbformat_minor": 2
}
